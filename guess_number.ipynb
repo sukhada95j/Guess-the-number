{
  "nbformat": 4,
  "nbformat_minor": 0,
  "metadata": {
    "colab": {
      "provenance": []
    },
    "kernelspec": {
      "name": "python3",
      "display_name": "Python 3"
    },
    "language_info": {
      "name": "python"
    }
  },
  "cells": [
    {
      "cell_type": "code",
      "execution_count": null,
      "metadata": {
        "colab": {
          "base_uri": "https://localhost:8080/"
        },
        "id": "ISzjDzwVJZ_S",
        "outputId": "ebe49902-eaf0-4c16-cfbd-f53bcc19fe77"
      },
      "outputs": [
        {
          "output_type": "stream",
          "name": "stdout",
          "text": [
            "Please input the number10\n",
            "85\n",
            "Cold\n",
            "Please input the number60\n",
            "Cold\n",
            "Please input the number81\n",
            "Warm\n",
            "Please input the number82\n",
            "Warm\n",
            "Please input the number85\n",
            "Number of attempt 4\n",
            "All the numbers you have guessed are [10, 60, 81, 82]\n"
          ]
        }
      ],
      "source": [
        "# Guess a number\n",
        "from random import randint  \n",
        "\n",
        "user_guess = int(input(\"Please input the number\"))\n",
        "\n",
        "random_number = randint(0,100)\n",
        "print(random_number)\n",
        "\n",
        "lst=[]\n",
        "\n",
        "if user_guess == random_number:\n",
        "  print(\"You guessed the number in first attempt\")\n",
        "\n",
        "while random_number != user_guess:\n",
        "  lst.append(user_guess)\n",
        "  difference = abs(user_guess - random_number)\n",
        "\n",
        "  if difference <=10:\n",
        "    print(\"Warm\")\n",
        "  else:\n",
        "    print(\"Cold\")\n",
        "  user_guess = int(input(\"Please input the number\"))\n",
        "\n",
        "print(\"Number of attempt\",len(lst))\n",
        "print(\"All the numbers you have guessed are\",lst)\n"
      ]
    },
    {
      "cell_type": "code",
      "source": [
        "39//10\n"
      ],
      "metadata": {
        "colab": {
          "base_uri": "https://localhost:8080/"
        },
        "id": "yoYDXnw5vY_A",
        "outputId": "fcd6cf37-d815-4ec2-bf8a-c50833559edc"
      },
      "execution_count": null,
      "outputs": [
        {
          "output_type": "execute_result",
          "data": {
            "text/plain": [
              "3"
            ]
          },
          "metadata": {},
          "execution_count": 5
        }
      ]
    }
  ]
}